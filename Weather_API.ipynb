{
  "nbformat": 4,
  "nbformat_minor": 0,
  "metadata": {
    "colab": {
      "provenance": [],
      "toc_visible": true
    },
    "kernelspec": {
      "name": "python3",
      "display_name": "Python 3"
    },
    "language_info": {
      "name": "python"
    }
  },
  "cells": [
    {
      "cell_type": "code",
      "execution_count": 1,
      "metadata": {
        "colab": {
          "base_uri": "https://localhost:8080/"
        },
        "id": "hqj05weaKXbq",
        "outputId": "f84f59eb-d947-4d88-efb5-6d8c92a4668a"
      },
      "outputs": [
        {
          "output_type": "stream",
          "name": "stdout",
          "text": [
            "Requirement already satisfied: requests in /usr/local/lib/python3.11/dist-packages (2.32.3)\n",
            "Requirement already satisfied: charset-normalizer<4,>=2 in /usr/local/lib/python3.11/dist-packages (from requests) (3.4.1)\n",
            "Requirement already satisfied: idna<4,>=2.5 in /usr/local/lib/python3.11/dist-packages (from requests) (3.10)\n",
            "Requirement already satisfied: urllib3<3,>=1.21.1 in /usr/local/lib/python3.11/dist-packages (from requests) (2.3.0)\n",
            "Requirement already satisfied: certifi>=2017.4.17 in /usr/local/lib/python3.11/dist-packages (from requests) (2025.1.31)\n"
          ]
        }
      ],
      "source": [
        "pip install requests\n"
      ]
    },
    {
      "cell_type": "code",
      "source": [
        "import requests\n",
        "\n",
        "def get_weather(city):\n",
        "    API_KEY = \"4cf0135d079f88f3b19f2c3057281abf\"  # Replace with your API key\n",
        "    URL = f\"http://api.openweathermap.org/data/2.5/weather?q={city}&appid={API_KEY}&units=metric\"\n",
        "\n",
        "    try:\n",
        "        response = requests.get(URL)\n",
        "        response.raise_for_status()  # Raise an exception for HTTP errors (4xx, 5xx)\n",
        "\n",
        "        data = response.json()\n",
        "        print(f\"Weather in {city}:\")\n",
        "        print(f\"Temperature: {data['main']['temp']}°C\")\n",
        "        print(f\"Humidity: {data['main']['humidity']}%\")\n",
        "        print(f\"Weather: {data['weather'][0]['description']}\")\n",
        "\n",
        "    except requests.exceptions.HTTPError as http_err:\n",
        "        if response.status_code == 401:\n",
        "            print(\"Error: Invalid API key! 🔑\")\n",
        "        elif response.status_code == 404:\n",
        "            print(\"Error: City not found! 🌍\")\n",
        "        elif response.status_code == 429:\n",
        "            print(\"Error: Too many requests! ⏳ Try again later.\")\n",
        "        else:\n",
        "            print(f\"HTTP error occurred: {http_err}\")\n",
        "\n",
        "    except requests.exceptions.ConnectionError:\n",
        "        print(\"Error: Unable to connect to API. Check your internet connection. 🌐\")\n",
        "\n",
        "    except requests.exceptions.Timeout:\n",
        "        print(\"Error: Request timed out. Try again later. ⏳\")\n",
        "\n",
        "    except requests.exceptions.RequestException as err:\n",
        "        print(f\"Error: {err}\")\n",
        "\n",
        "# Test with different city names\n",
        "get_weather(\"Leh\")  # Valid city\n",
        "get_weather(\"InvalidCity123\")  # Invalid city\n"
      ],
      "metadata": {
        "colab": {
          "base_uri": "https://localhost:8080/"
        },
        "id": "jis2r0dXKmwZ",
        "outputId": "82ce71b5-b680-4344-89e1-cac326d9ae06"
      },
      "execution_count": 13,
      "outputs": [
        {
          "output_type": "stream",
          "name": "stdout",
          "text": [
            "Weather in Leh:\n",
            "Temperature: -14.97°C\n",
            "Humidity: 66%\n",
            "Weather: few clouds\n",
            "Error: City not found! 🌍\n"
          ]
        }
      ]
    },
    {
      "cell_type": "code",
      "source": [],
      "metadata": {
        "id": "NKw5AR2tKmyG"
      },
      "execution_count": null,
      "outputs": []
    },
    {
      "cell_type": "code",
      "source": [],
      "metadata": {
        "id": "uzNDwirlKm0I"
      },
      "execution_count": null,
      "outputs": []
    }
  ]
}